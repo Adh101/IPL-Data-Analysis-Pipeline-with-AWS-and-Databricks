{
 "cells": [
  {
   "cell_type": "code",
   "execution_count": 0,
   "metadata": {
    "application/vnd.databricks.v1+cell": {
     "cellMetadata": {
      "byteLimit": 2048000,
      "rowLimit": 10000
     },
     "inputWidgets": {},
     "nuid": "4e960023-6a08-4451-a1c7-a070f129b2ec",
     "showTitle": false,
     "tableResultSettingsMap": {},
     "title": ""
    }
   },
   "outputs": [
    {
     "data": {
      "text/html": [
       "\n",
       "            <div>\n",
       "                <p><b>SparkSession - hive</b></p>\n",
       "                \n",
       "        <div>\n",
       "            <p><b>SparkContext</b></p>\n",
       "\n",
       "            <p><a href=\"/?o=1352785079224954#setting/sparkui/0907-202402-i59g1sgi/driver-4330245394732349348\">Spark UI</a></p>\n",
       "\n",
       "            <dl>\n",
       "              <dt>Version</dt>\n",
       "                <dd><code>v4.0.0</code></dd>\n",
       "              <dt>Master</dt>\n",
       "                <dd><code>local[*, 4]</code></dd>\n",
       "              <dt>AppName</dt>\n",
       "                <dd><code>Databricks Shell</code></dd>\n",
       "            </dl>\n",
       "        </div>\n",
       "        \n",
       "            </div>\n",
       "        "
      ],
      "text/plain": [
       "<pyspark.sql.session.SparkSession at 0x7fe12414d9a0>"
      ]
     },
     "execution_count": 1,
     "metadata": {},
     "output_type": "execute_result"
    }
   ],
   "source": [
    "spark"
   ]
  },
  {
   "cell_type": "code",
   "execution_count": 0,
   "metadata": {
    "application/vnd.databricks.v1+cell": {
     "cellMetadata": {
      "byteLimit": 2048000,
      "rowLimit": 10000
     },
     "inputWidgets": {},
     "nuid": "e78b3208-a45d-4fc0-a08a-5b77ef33ad85",
     "showTitle": false,
     "tableResultSettingsMap": {},
     "title": ""
    }
   },
   "outputs": [],
   "source": [
    "from pyspark.sql import SparkSession\n",
    "\n",
    "#Create session\n",
    "spark = SparkSession.builder.appName(\"IPL DATA ANALYSIS\").getOrCreate()"
   ]
  },
  {
   "cell_type": "code",
   "execution_count": 0,
   "metadata": {
    "application/vnd.databricks.v1+cell": {
     "cellMetadata": {
      "byteLimit": 2048000,
      "rowLimit": 10000
     },
     "inputWidgets": {},
     "nuid": "d07f6737-dbec-4eed-81fc-f98b9f77264e",
     "showTitle": false,
     "tableResultSettingsMap": {},
     "title": ""
    }
   },
   "outputs": [
    {
     "data": {
      "text/html": [
       "\n",
       "            <div>\n",
       "                <p><b>SparkSession - hive</b></p>\n",
       "                \n",
       "        <div>\n",
       "            <p><b>SparkContext</b></p>\n",
       "\n",
       "            <p><a href=\"/?o=1352785079224954#setting/sparkui/0907-202402-i59g1sgi/driver-4330245394732349348\">Spark UI</a></p>\n",
       "\n",
       "            <dl>\n",
       "              <dt>Version</dt>\n",
       "                <dd><code>v4.0.0</code></dd>\n",
       "              <dt>Master</dt>\n",
       "                <dd><code>local[*, 4]</code></dd>\n",
       "              <dt>AppName</dt>\n",
       "                <dd><code>Databricks Shell</code></dd>\n",
       "            </dl>\n",
       "        </div>\n",
       "        \n",
       "            </div>\n",
       "        "
      ],
      "text/plain": [
       "<pyspark.sql.session.SparkSession at 0x7fe12414d9a0>"
      ]
     },
     "execution_count": 3,
     "metadata": {},
     "output_type": "execute_result"
    }
   ],
   "source": [
    "spark"
   ]
  },
  {
   "cell_type": "code",
   "execution_count": 0,
   "metadata": {
    "application/vnd.databricks.v1+cell": {
     "cellMetadata": {
      "byteLimit": 2048000,
      "rowLimit": 10000
     },
     "inputWidgets": {},
     "nuid": "53e4383d-6679-450c-9b2c-689367f8a221",
     "showTitle": false,
     "tableResultSettingsMap": {},
     "title": ""
    }
   },
   "outputs": [],
   "source": [
    "# Set AWS credentials if AWS S3 bucket is not publicly accessible\n",
    "spark._jsc.hadoopConfiguration().set(\"fs.s3a.access.key\", \"your_access_key\")\n",
    "spark._jsc.hadoopConfiguration().set(\"fs.s3a.secret.key\", \"your_secret_key\")"
   ]
  },
  {
   "cell_type": "code",
   "execution_count": 0,
   "metadata": {
    "application/vnd.databricks.v1+cell": {
     "cellMetadata": {
      "byteLimit": 2048000,
      "rowLimit": 10000
     },
     "inputWidgets": {},
     "nuid": "9fc94a9a-901c-4920-9e79-d684c53ed9f9",
     "showTitle": false,
     "tableResultSettingsMap": {},
     "title": ""
    }
   },
   "outputs": [],
   "source": [
    "#Import packages to build the schema (Recommened as inferSchema may not get accurate data type)\n",
    "from pyspark.sql.types import StructType, StructField, IntegerType, BooleanType, DateType, StringType, DecimalType"
   ]
  },
  {
   "cell_type": "code",
   "execution_count": 0,
   "metadata": {
    "application/vnd.databricks.v1+cell": {
     "cellMetadata": {
      "byteLimit": 2048000,
      "rowLimit": 10000
     },
     "inputWidgets": {},
     "nuid": "c38ad3ab-4a6c-4d67-a281-e7d67e977d70",
     "showTitle": false,
     "tableResultSettingsMap": {},
     "title": ""
    }
   },
   "outputs": [],
   "source": [
    "#Create the schema for ball_by_ball data\n",
    "ball_by_ball_schema = StructType([\n",
    "    StructField(\"match_id\",IntegerType(),True),\n",
    "    StructField(\"over_id\",IntegerType(),True),\n",
    "    StructField(\"ball_id\",IntegerType(),True),\n",
    "    StructField(\"innings_no\", IntegerType(), True),\n",
    "    StructField(\"team_batting\", StringType(), True),\n",
    "    StructField(\"team_bowling\", StringType(), True),\n",
    "    StructField(\"striker_batting_position\", IntegerType(), True),\n",
    "    StructField(\"extra_type\", StringType(), True),\n",
    "    StructField(\"runs_scored\", IntegerType(), True),\n",
    "    StructField(\"extra_runs\", IntegerType(), True),\n",
    "    StructField(\"wides\", IntegerType(), True),\n",
    "    StructField(\"legbyes\", IntegerType(), True),\n",
    "    StructField(\"byes\", IntegerType(), True),\n",
    "    StructField(\"noballs\", IntegerType(), True),\n",
    "    StructField(\"penalty\", IntegerType(), True),\n",
    "    StructField(\"bowler_extras\", IntegerType(), True),\n",
    "    StructField(\"out_type\", StringType(), True),\n",
    "    StructField(\"caught\", BooleanType(), True),\n",
    "    StructField(\"bowled\", BooleanType(), True),\n",
    "    StructField(\"run_out\", BooleanType(), True),\n",
    "    StructField(\"lbw\", BooleanType(), True),\n",
    "    StructField(\"retired_hurt\", BooleanType(), True),\n",
    "    StructField(\"stumped\", BooleanType(), True),\n",
    "    StructField(\"caught_and_bowled\", BooleanType(), True),\n",
    "    StructField(\"hit_wicket\", BooleanType(), True),\n",
    "    StructField(\"obstructingfeild\", BooleanType(), True),\n",
    "    StructField(\"bowler_wicket\", BooleanType(), True),\n",
    "    StructField(\"match_date\", DateType(), True),\n",
    "    StructField(\"season\", IntegerType(), True),\n",
    "    StructField(\"striker\", IntegerType(), True),\n",
    "    StructField(\"non_striker\", IntegerType(), True),\n",
    "    StructField(\"bowler\", IntegerType(), True),\n",
    "    StructField(\"player_out\", IntegerType(), True),\n",
    "    StructField(\"fielders\", IntegerType(), True),\n",
    "    StructField(\"striker_match_sk\", IntegerType(), True),\n",
    "    StructField(\"strikersk\", IntegerType(), True),\n",
    "    StructField(\"nonstriker_match_sk\", IntegerType(), True),\n",
    "    StructField(\"nonstriker_sk\", IntegerType(), True),\n",
    "    StructField(\"fielder_match_sk\", IntegerType(), True),\n",
    "    StructField(\"fielder_sk\", IntegerType(), True),\n",
    "    StructField(\"bowler_match_sk\", IntegerType(), True),\n",
    "    StructField(\"bowler_sk\", IntegerType(), True),\n",
    "    StructField(\"playerout_match_sk\", IntegerType(), True),\n",
    "    StructField(\"battingteam_sk\", IntegerType(), True),\n",
    "    StructField(\"bowlingteam_sk\", IntegerType(), True),\n",
    "    StructField(\"keeper_catch\", BooleanType(), True),\n",
    "    StructField(\"player_out_sk\", IntegerType(), True),\n",
    "    StructField(\"matchdatesk\", DateType(), True)\n",
    "])\n",
    "\n",
    "#Read the data with above schema\n",
    "ball_by_ball_df = spark.read.schema(ball_by_ball_schema).format('csv').option(\"header\",\"true\").load(\"s3://atish-ipl-data-analysis/raghu543_ipl-data-till-2017/2025-09-07/ball_by_ball.csv\")"
   ]
  },
  {
   "cell_type": "code",
   "execution_count": 0,
   "metadata": {
    "application/vnd.databricks.v1+cell": {
     "cellMetadata": {
      "byteLimit": 2048000,
      "rowLimit": 10000
     },
     "inputWidgets": {},
     "nuid": "62544fba-1c2f-47dc-a820-0de9d6946a78",
     "showTitle": false,
     "tableResultSettingsMap": {},
     "title": ""
    }
   },
   "outputs": [
    {
     "name": "stdout",
     "output_type": "stream",
     "text": [
      "+--------+-------+-------+----------+------------+------------+------------------------+----------+-----------+----------+-----+-------+----+-------+-------+-------------+--------------+------+------+-------+-----+------------+-------+-----------------+----------+----------------+-------------+----------+------+-------+-----------+------+----------+--------+----------------+---------+-------------------+-------------+----------------+----------+---------------+---------+------------------+--------------+--------------+------------+-------------+-----------+\n",
      "|match_id|over_id|ball_id|innings_no|team_batting|team_bowling|striker_batting_position|extra_type|runs_scored|extra_runs|wides|legbyes|byes|noballs|penalty|bowler_extras|      out_type|caught|bowled|run_out|  lbw|retired_hurt|stumped|caught_and_bowled|hit_wicket|obstructingfeild|bowler_wicket|match_date|season|striker|non_striker|bowler|player_out|fielders|striker_match_sk|strikersk|nonstriker_match_sk|nonstriker_sk|fielder_match_sk|fielder_sk|bowler_match_sk|bowler_sk|playerout_match_sk|battingteam_sk|bowlingteam_sk|keeper_catch|player_out_sk|matchdatesk|\n",
      "+--------+-------+-------+----------+------------+------------+------------------------+----------+-----------+----------+-----+-------+----+-------+-------+-------------+--------------+------+------+-------+-----+------------+-------+-----------------+----------+----------------+-------------+----------+------+-------+-----------+------+----------+--------+----------------+---------+-------------------+-------------+----------------+----------+---------------+---------+------------------+--------------+--------------+------------+-------------+-----------+\n",
      "|  598028|     15|      6|         1|           5|           2|                    NULL| No Extras|          4|         0|    0|      0|   0|      0|      0|            0|Not Applicable| false| false|  false|false|       false|  false|            false|     false|           false|        false|2013-04-20|  2013|    277|        104|    83|      NULL|    NULL|           20336|      276|              20333|          103|              -1|        -1|          20343|       82|                -1|             4|             1|       false|            0| 2013-04-20|\n",
      "|  598028|     14|      1|         1|           5|           2|                    NULL| No Extras|          1|         0|    0|      0|   0|      0|      0|            0|Not Applicable| false| false|  false|false|       false|  false|            false|     false|           false|        false|2013-04-20|  2013|    104|          6|   346|      NULL|    NULL|           20333|      103|              20328|            5|              -1|        -1|          20348|      345|                -1|             4|             1|       false|            0| 2013-04-20|\n",
      "|  598028|     14|      2|         1|           5|           2|                    NULL| No Extras|          1|         0|    0|      0|   0|      0|      0|            0|Not Applicable| false| false|  false|false|       false|  false|            false|     false|           false|        false|2013-04-20|  2013|      6|        104|   346|      NULL|    NULL|           20328|        5|              20333|          103|              -1|        -1|          20348|      345|                -1|             4|             1|       false|            0| 2013-04-20|\n",
      "|  598028|     14|      3|         1|           5|           2|                    NULL| No Extras|          1|         0|    0|      0|   0|      0|      0|            0|Not Applicable| false| false|  false|false|       false|  false|            false|     false|           false|        false|2013-04-20|  2013|    104|          6|   346|      NULL|    NULL|           20333|      103|              20328|            5|              -1|        -1|          20348|      345|                -1|             4|             1|       false|            0| 2013-04-20|\n",
      "|  598028|     14|      4|         1|           5|           2|                    NULL| No Extras|          0|         0|    0|      0|   0|      0|      0|            0|Not Applicable| false| false|  false|false|       false|  false|            false|     false|           false|        false|2013-04-20|  2013|      6|        104|   346|      NULL|    NULL|           20328|        5|              20333|          103|              -1|        -1|          20348|      345|                -1|             4|             1|       false|            0| 2013-04-20|\n",
      "+--------+-------+-------+----------+------------+------------+------------------------+----------+-----------+----------+-----+-------+----+-------+-------+-------------+--------------+------+------+-------+-----+------------+-------+-----------------+----------+----------------+-------------+----------+------+-------+-----------+------+----------+--------+----------------+---------+-------------------+-------------+----------------+----------+---------------+---------+------------------+--------------+--------------+------------+-------------+-----------+\n",
      "only showing top 5 rows\n"
     ]
    }
   ],
   "source": [
    "ball_by_ball_df.show(5)"
   ]
  },
  {
   "cell_type": "code",
   "execution_count": 0,
   "metadata": {
    "application/vnd.databricks.v1+cell": {
     "cellMetadata": {
      "byteLimit": 2048000,
      "rowLimit": 10000
     },
     "inputWidgets": {},
     "nuid": "3c442af4-9b7a-4560-bc5e-75e9d361a6f9",
     "showTitle": false,
     "tableResultSettingsMap": {},
     "title": ""
    }
   },
   "outputs": [],
   "source": [
    "match_schema = StructType([\n",
    "    StructField(\"match_sk\",IntegerType(),True),\n",
    "    StructField(\"match_id\", IntegerType(), True),\n",
    "    StructField(\"team1\", StringType(), True),\n",
    "    StructField(\"team2\", StringType(), True),\n",
    "    StructField(\"match_date\", DateType(), True),\n",
    "    StructField(\"season_year\", IntegerType(), True),\n",
    "    StructField(\"venue_name\", StringType(), True),\n",
    "    StructField(\"city_name\", StringType(), True),\n",
    "    StructField(\"country_name\", StringType(), True),\n",
    "    StructField(\"toss_winner\", StringType(), True),\n",
    "    StructField(\"match_winner\", StringType(), True),\n",
    "    StructField(\"toss_name\", StringType(), True),\n",
    "    StructField(\"win_type\", StringType(), True),\n",
    "    StructField(\"outcome_type\", StringType(), True),\n",
    "    StructField(\"manofmach\", StringType(), True),\n",
    "    StructField(\"win_margin\", IntegerType(), True),\n",
    "    StructField(\"country_id\", IntegerType(), True)\n",
    "])\n",
    "\n",
    "#Read match data\n",
    "match_df = spark.read.schema(match_schema).format('csv').option(\"header\",\"true\").load(\"s3://atish-ipl-data-analysis/raghu543_ipl-data-till-2017/2025-09-07/match.csv\")"
   ]
  },
  {
   "cell_type": "code",
   "execution_count": 0,
   "metadata": {
    "application/vnd.databricks.v1+cell": {
     "cellMetadata": {
      "byteLimit": 2048000,
      "rowLimit": 10000
     },
     "inputWidgets": {},
     "nuid": "6928bbf3-ec1c-4291-8888-daf033a34618",
     "showTitle": false,
     "tableResultSettingsMap": {},
     "title": ""
    }
   },
   "outputs": [
    {
     "name": "stdout",
     "output_type": "stream",
     "text": [
      "+---------+---------+---------------+----------+--------------+------------------+------------+\n",
      "|player_sk|player_id|    player_name|       dob|  batting_hand|     bowling_skill|country_name|\n",
      "+---------+---------+---------------+----------+--------------+------------------+------------+\n",
      "|        0|        1|     SC Ganguly|1972-07-08| Left-hand bat|  Right-arm medium|       India|\n",
      "|        1|        2|    BB McCullum|1981-09-27|Right-hand bat|  Right-arm medium| New Zealand|\n",
      "|        2|        3|     RT Ponting|1974-12-19|Right-hand bat|  Right-arm medium|   Australia|\n",
      "|        3|        4|      DJ Hussey|1977-07-15|Right-hand bat|Right-arm offbreak|   Australia|\n",
      "|        4|        5|Mohammad Hafeez|1980-10-17|Right-hand bat|Right-arm offbreak|    Pakistan|\n",
      "+---------+---------+---------------+----------+--------------+------------------+------------+\n",
      "only showing top 5 rows\n"
     ]
    }
   ],
   "source": [
    "player_schema = StructType([\n",
    "    StructField(\"player_sk\", IntegerType(), True),\n",
    "    StructField(\"player_id\", IntegerType(), True),\n",
    "    StructField(\"player_name\", StringType(), True),\n",
    "    StructField(\"dob\", DateType(), True),\n",
    "    StructField(\"batting_hand\", StringType(), True),\n",
    "    StructField(\"bowling_skill\", StringType(), True),\n",
    "    StructField(\"country_name\", StringType(), True)\n",
    "])\n",
    "\n",
    "player_df = spark.read.schema(player_schema).format(\"csv\").option(\"header\",\"true\").load(\"s3://atish-ipl-data-analysis/raghu543_ipl-data-till-2017/2025-09-07/player.csv\")\n",
    "\n",
    "player_df.show(5)\n"
   ]
  },
  {
   "cell_type": "code",
   "execution_count": 0,
   "metadata": {
    "application/vnd.databricks.v1+cell": {
     "cellMetadata": {
      "byteLimit": 2048000,
      "rowLimit": 10000
     },
     "inputWidgets": {},
     "nuid": "63c779ca-44cd-4b50-90e8-8e9e2da3f4f9",
     "showTitle": false,
     "tableResultSettingsMap": {},
     "title": ""
    }
   },
   "outputs": [],
   "source": [
    "player_match_schema = StructType([\n",
    "    StructField(\"player_match_sk\", IntegerType(), True),\n",
    "    StructField(\"playermatch_key\", DecimalType(), True),\n",
    "    StructField(\"match_id\", IntegerType(), True),\n",
    "    StructField(\"player_id\", IntegerType(), True),\n",
    "    StructField(\"player_name\", StringType(), True),\n",
    "    StructField(\"dob\", DateType(), True),\n",
    "    StructField(\"batting_hand\", StringType(), True),\n",
    "    StructField(\"bowling_skill\", StringType(), True),\n",
    "    StructField(\"country_name\", StringType(), True),\n",
    "    StructField(\"role_desc\", StringType(), True),\n",
    "    StructField(\"player_team\", StringType(), True),\n",
    "    StructField(\"opposit_team\", StringType(), True),\n",
    "    StructField(\"season_year\", IntegerType(), True),\n",
    "    StructField(\"is_manofthematch\", BooleanType(), True),\n",
    "    StructField(\"age_as_on_match\", IntegerType(), True),\n",
    "    StructField(\"isplayers_team_won\", BooleanType(), True),\n",
    "    StructField(\"batting_status\", StringType(), True),\n",
    "    StructField(\"bowling_status\", StringType(), True),\n",
    "    StructField(\"player_captain\", StringType(), True),\n",
    "    StructField(\"opposit_captain\", StringType(), True),\n",
    "    StructField(\"player_keeper\", StringType(), True),\n",
    "    StructField(\"opposit_keeper\", StringType(), True)\n",
    "])\n",
    "\n",
    "player_match_df = spark.read.schema(player_match_schema).format(\"csv\").option(\"header\",\"true\").load(\"s3://atish-ipl-data-analysis/raghu543_ipl-data-till-2017/2025-09-07/player_match.csv\")\n"
   ]
  },
  {
   "cell_type": "code",
   "execution_count": 0,
   "metadata": {
    "application/vnd.databricks.v1+cell": {
     "cellMetadata": {
      "byteLimit": 2048000,
      "rowLimit": 10000
     },
     "inputWidgets": {},
     "nuid": "c51def79-93da-4ee1-a0f2-2738aaf4892c",
     "showTitle": false,
     "tableResultSettingsMap": {},
     "title": ""
    }
   },
   "outputs": [],
   "source": [
    "team_schema = StructType([\n",
    "    StructField(\"team_sk\", IntegerType(), True),\n",
    "    StructField(\"team_id\", IntegerType(), True),\n",
    "    StructField(\"team_name\", StringType(), True)\n",
    "])\n",
    "\n",
    "team_df = spark.read.schema(team_schema).format(\"csv\").option(\"header\",\"true\").load(\"s3://atish-ipl-data-analysis/raghu543_ipl-data-till-2017/2025-09-07/team.csv\")\n",
    "     "
   ]
  },
  {
   "cell_type": "code",
   "execution_count": 0,
   "metadata": {
    "application/vnd.databricks.v1+cell": {
     "cellMetadata": {
      "byteLimit": 2048000,
      "rowLimit": 10000
     },
     "inputWidgets": {},
     "nuid": "71003894-179c-45df-b1a4-573ca8622419",
     "showTitle": false,
     "tableResultSettingsMap": {},
     "title": ""
    }
   },
   "outputs": [],
   "source": [
    "#Transformation Logic\n",
    "from pyspark.sql.functions import *\n",
    "\n",
    "#Filter: exclude the delveries with extras(wides and no balls)\n",
    "ball_by_ball_no_extras_df = ball_by_ball_df.filter(((col(\"wides\")) == 0) & ((col(\"noballs\")) == 0))\n",
    "\n",
    "#Aggregation: Calcuate the total and average runs scored per match and innings\n",
    "total_and_avg_runs = ball_by_ball_df.groupBy(\"match_id\",\"innings_no\").agg(\n",
    "    sum(\"runs_scored\").alias(\"total_runs\"),\n",
    "    avg(\"runs_scored\").alias(\"avg_runs\"),\n",
    ").orderBy(\"match_id\",\"innings_no\")"
   ]
  },
  {
   "cell_type": "code",
   "execution_count": 0,
   "metadata": {
    "application/vnd.databricks.v1+cell": {
     "cellMetadata": {
      "byteLimit": 2048000,
      "rowLimit": 10000
     },
     "inputWidgets": {},
     "nuid": "248fc192-b214-40ff-b397-9e30807b5447",
     "showTitle": false,
     "tableResultSettingsMap": {},
     "title": ""
    }
   },
   "outputs": [],
   "source": [
    "#Window Function\n",
    "from pyspark.sql.window import Window\n",
    "\n",
    "#Calcualte the running total of runs in each match per over\n",
    "#Create a window for each match and innings on over\n",
    "windowspec = Window.partitionBy(\"match_id\",\"innings_no\").orderBy(\"over_id\")\n",
    "\n",
    "#add new column of running_totals in df\n",
    "ball_by_ball_df = ball_by_ball_df.withColumn(\n",
    "                                                \"running_total\",sum(\"runs_scored\").over(windowspec)\n",
    "                                             )"
   ]
  },
  {
   "cell_type": "code",
   "execution_count": 0,
   "metadata": {
    "application/vnd.databricks.v1+cell": {
     "cellMetadata": {
      "byteLimit": 2048000,
      "rowLimit": 10000
     },
     "inputWidgets": {},
     "nuid": "ee89cdb7-6e53-495d-99d6-06ea096d58a4",
     "showTitle": false,
     "tableResultSettingsMap": {},
     "title": ""
    }
   },
   "outputs": [],
   "source": [
    "#Conditional Column:\n",
    "#Flag an high impact delivery such as wicket ball or with more than six runs scored\n",
    "ball_by_ball_df = ball_by_ball_df.withColumn(\n",
    "                                                \"high_impact\",\n",
    "                                                when(\n",
    "                                                    ((col(\"runs_scored\") + col(\"extra_runs\")) >= 6) | (col(\"bowler_wicket\")== True), True).otherwise(False)\n",
    ")"
   ]
  },
  {
   "cell_type": "code",
   "execution_count": 0,
   "metadata": {
    "application/vnd.databricks.v1+cell": {
     "cellMetadata": {
      "byteLimit": 2048000,
      "rowLimit": 10000
     },
     "inputWidgets": {},
     "nuid": "991dbfb0-78eb-403f-8146-4bbb1f9ff0a7",
     "showTitle": false,
     "tableResultSettingsMap": {},
     "title": ""
    }
   },
   "outputs": [
    {
     "name": "stdout",
     "output_type": "stream",
     "text": [
      "+--------+-------+-------+----------+------------+------------+------------------------+----------+-----------+----------+-----+-------+----+-------+-------+-------------+--------------+------+------+-------+-----+------------+-------+-----------------+----------+----------------+-------------+----------+------+-------+-----------+------+----------+--------+----------------+---------+-------------------+-------------+----------------+----------+---------------+---------+------------------+--------------+--------------+------------+-------------+-----------+-------------+-----------+\n",
      "|match_id|over_id|ball_id|innings_no|team_batting|team_bowling|striker_batting_position|extra_type|runs_scored|extra_runs|wides|legbyes|byes|noballs|penalty|bowler_extras|      out_type|caught|bowled|run_out|  lbw|retired_hurt|stumped|caught_and_bowled|hit_wicket|obstructingfeild|bowler_wicket|match_date|season|striker|non_striker|bowler|player_out|fielders|striker_match_sk|strikersk|nonstriker_match_sk|nonstriker_sk|fielder_match_sk|fielder_sk|bowler_match_sk|bowler_sk|playerout_match_sk|battingteam_sk|bowlingteam_sk|keeper_catch|player_out_sk|matchdatesk|running_total|high_impact|\n",
      "+--------+-------+-------+----------+------------+------------+------------------------+----------+-----------+----------+-----+-------+----+-------+-------+-------------+--------------+------+------+-------+-----+------------+-------+-----------------+----------+----------------+-------------+----------+------+-------+-----------+------+----------+--------+----------------+---------+-------------------+-------------+----------------+----------+---------------+---------+------------------+--------------+--------------+------------+-------------+-----------+-------------+-----------+\n",
      "|  335987|      1|      1|         1|           1|           2|                    NULL|   legbyes|          0|         1|    0|      1|   0|      0|      0|            0|Not Applicable| false| false|  false|false|       false|  false|            false|     false|           false|        false|2008-04-18|  2008|      1|          2|    14|      NULL|    NULL|           12705|        0|              12706|            1|              -1|        -1|          12702|       13|                -1|             0|             1|       false|            0| 2008-04-18|            0|      false|\n",
      "|  335987|      1|      2|         1|           1|           2|                    NULL| No Extras|          0|         0|    0|      0|   0|      0|      0|            0|Not Applicable| false| false|  false|false|       false|  false|            false|     false|           false|        false|2008-04-18|  2008|      2|          1|    14|      NULL|    NULL|           12706|        1|              12705|            0|              -1|        -1|          12702|       13|                -1|             0|             1|       false|            0| 2008-04-18|            0|      false|\n",
      "|  335987|      1|      3|         1|           1|           2|                    NULL|     wides|          0|         1|    1|      0|   0|      0|      0|            1|Not Applicable| false| false|  false|false|       false|  false|            false|     false|           false|        false|2008-04-18|  2008|      2|          1|    14|      NULL|    NULL|           12706|        1|              12705|            0|              -1|        -1|          12702|       13|                -1|             0|             1|       false|            0| 2008-04-18|            0|      false|\n",
      "|  335987|      1|      4|         1|           1|           2|                    NULL| No Extras|          0|         0|    0|      0|   0|      0|      0|            0|Not Applicable| false| false|  false|false|       false|  false|            false|     false|           false|        false|2008-04-18|  2008|      2|          1|    14|      NULL|    NULL|           12706|        1|              12705|            0|              -1|        -1|          12702|       13|                -1|             0|             1|       false|            0| 2008-04-18|            0|      false|\n",
      "|  335987|      1|      5|         1|           1|           2|                    NULL| No Extras|          0|         0|    0|      0|   0|      0|      0|            0|Not Applicable| false| false|  false|false|       false|  false|            false|     false|           false|        false|2008-04-18|  2008|      2|          1|    14|      NULL|    NULL|           12706|        1|              12705|            0|              -1|        -1|          12702|       13|                -1|             0|             1|       false|            0| 2008-04-18|            0|      false|\n",
      "+--------+-------+-------+----------+------------+------------+------------------------+----------+-----------+----------+-----+-------+----+-------+-------+-------------+--------------+------+------+-------+-----+------------+-------+-----------------+----------+----------------+-------------+----------+------+-------+-----------+------+----------+--------+----------------+---------+-------------------+-------------+----------------+----------+---------------+---------+------------------+--------------+--------------+------------+-------------+-----------+-------------+-----------+\n",
      "only showing top 5 rows\n"
     ]
    }
   ],
   "source": [
    "ball_by_ball_df.show(5)"
   ]
  },
  {
   "cell_type": "code",
   "execution_count": 0,
   "metadata": {
    "application/vnd.databricks.v1+cell": {
     "cellMetadata": {
      "byteLimit": 2048000,
      "rowLimit": 10000
     },
     "inputWidgets": {},
     "nuid": "828fa0f7-d067-48c2-a20b-44a491c8630a",
     "showTitle": false,
     "tableResultSettingsMap": {},
     "title": ""
    }
   },
   "outputs": [
    {
     "name": "stdout",
     "output_type": "stream",
     "text": [
      "+--------+--------+--------------------+--------------------+----------+-----------+--------------------+----------+------------+--------------------+--------------------+---------+--------+------------+-----------+----------+----------+----+-----+---+-------------------+-----------------+\n",
      "|match_sk|match_id|               team1|               team2|match_date|season_year|          venue_name| city_name|country_name|         toss_winner|        match_winner|toss_name|win_type|outcome_type|  manofmach|win_margin|country_id|year|month|day|win_margin_category|toss_match_winner|\n",
      "+--------+--------+--------------------+--------------------+----------+-----------+--------------------+----------+------------+--------------------+--------------------+---------+--------+------------+-----------+----------+----------+----+-----+---+-------------------+-----------------+\n",
      "|       0|  335987|Royal Challengers...|Kolkata Knight Ri...|2008-04-18|       2008|M Chinnaswamy Sta...| Bangalore|       India|Royal Challengers...|Kolkata Knight Ri...|    field|    runs|      Result|BB McCullum|      NULL|         1|2008|    4| 18|                Low|            False|\n",
      "|       1|  335988|     Kings XI Punjab| Chennai Super Kings|2008-04-19|       2008|Punjab Cricket As...|Chandigarh|       India| Chennai Super Kings| Chennai Super Kings|      bat|    runs|      Result| MEK Hussey|      NULL|         1|2008|    4| 19|                Low|             True|\n",
      "|       2|  335989|    Delhi Daredevils|    Rajasthan Royals|2008-04-19|       2008|    Feroz Shah Kotla|     Delhi|       India|    Rajasthan Royals|    Delhi Daredevils|      bat| wickets|      Result|MF Maharoof|      NULL|         1|2008|    4| 19|                Low|            False|\n",
      "|       3|  335990|      Mumbai Indians|Royal Challengers...|2008-04-20|       2008|    Wankhede Stadium|    Mumbai|       India|      Mumbai Indians|Royal Challengers...|      bat| wickets|      Result| MV Boucher|      NULL|         1|2008|    4| 20|                Low|            False|\n",
      "|       4|  335991|Kolkata Knight Ri...|     Deccan Chargers|2008-04-20|       2008|        Eden Gardens|   Kolkata|       India|     Deccan Chargers|Kolkata Knight Ri...|      bat| wickets|      Result|  DJ Hussey|      NULL|         1|2008|    4| 20|                Low|            False|\n",
      "+--------+--------+--------------------+--------------------+----------+-----------+--------------------+----------+------------+--------------------+--------------------+---------+--------+------------+-----------+----------+----------+----+-----+---+-------------------+-----------------+\n",
      "only showing top 5 rows\n"
     ]
    }
   ],
   "source": [
    "#Transformation on match_df\n",
    "#Extracting year, month and dayofmonth from match_date\n",
    "match_df = match_df.withColumn(\"year\",year(\"match_date\"))\n",
    "match_df = match_df.withColumn(\"month\",month(\"match_date\"))\n",
    "match_df = match_df.withColumn(\"day\",dayofmonth(\"match_date\"))\n",
    "\n",
    "#Categorizing the win_margin\n",
    "match_df = match_df.withColumn(\n",
    "            \"win_margin_category\",\n",
    "            when(\n",
    "                (col(\"win_margin\") >= 100),\"High\"\n",
    "            )\n",
    "            .when(\n",
    "                (col(\"win_margin\")>=50) & (col(\"win_margin\") < 100),\"Medium\"\n",
    "            )\n",
    "            .otherwise(\"Low\")\n",
    ")\n",
    "\n",
    "#Analyzing whether toss winner is the match winner\n",
    "match_df = match_df.withColumn(\n",
    "                \"toss_match_winner\",\n",
    "                when(\n",
    "                    col(\"toss_winner\")==col(\"match_winner\"),\"True\"\n",
    "                )\n",
    "                .otherwise(\"False\")\n",
    ")\n",
    "\n",
    "match_df.show(5)"
   ]
  },
  {
   "cell_type": "code",
   "execution_count": 0,
   "metadata": {
    "application/vnd.databricks.v1+cell": {
     "cellMetadata": {
      "byteLimit": 2048000,
      "rowLimit": 10000
     },
     "inputWidgets": {},
     "nuid": "4d293762-9c31-4a55-845b-27bc93d42f91",
     "showTitle": false,
     "tableResultSettingsMap": {},
     "title": ""
    }
   },
   "outputs": [
    {
     "name": "stdout",
     "output_type": "stream",
     "text": [
      "+---------+---------+---------------+----------+--------------+------------------+------------+-------------+\n",
      "|player_sk|player_id|    player_name|       dob|  batting_hand|     bowling_skill|country_name|batting_style|\n",
      "+---------+---------+---------------+----------+--------------+------------------+------------+-------------+\n",
      "|        0|        1|     SC Ganguly|1972-07-08| Left-hand bat|  Right-arm medium|       India|  Left-Handed|\n",
      "|        1|        2|    BB McCullum|1981-09-27|Right-hand bat|  Right-arm medium| New Zealand| Right-Handed|\n",
      "|        2|        3|     RT Ponting|1974-12-19|Right-hand bat|  Right-arm medium|   Australia| Right-Handed|\n",
      "|        3|        4|      DJ Hussey|1977-07-15|Right-hand bat|Right-arm offbreak|   Australia| Right-Handed|\n",
      "|        4|        5|Mohammad Hafeez|1980-10-17|Right-hand bat|Right-arm offbreak|    Pakistan| Right-Handed|\n",
      "+---------+---------+---------------+----------+--------------+------------------+------------+-------------+\n",
      "only showing top 5 rows\n"
     ]
    }
   ],
   "source": [
    "#Transformation on player_df\n",
    "\n",
    "#Normalizing and clean player names\n",
    "#player_df = player_df.withColumn(\n",
    "#                        \"player_name\",lower(regexp_replace(\"player_name\", \"[^a-zA-Z0-9]\", \"\"))    \n",
    "#)\n",
    "\n",
    "#Fill Null Values\n",
    "player_df = player_df.na.fill(\n",
    "                        {\"batting_hand\":\"unknown\",\"bowling_skill\":\"unknown\"}\n",
    ")\n",
    "\n",
    "#Categorizing the player by cleaning batting_hand column and creating batting_style\n",
    "player_df = player_df.withColumn(\n",
    "                        \"batting_style\",\n",
    "                        when(\n",
    "                            lower(col(\"batting_hand\")).contains(\"left\"),\"Left-Handed\"\n",
    "                        )\n",
    "                        .otherwise(\"Right-Handed\")\n",
    ")\n",
    "\n",
    "player_df.show(5)"
   ]
  },
  {
   "cell_type": "code",
   "execution_count": 0,
   "metadata": {
    "application/vnd.databricks.v1+cell": {
     "cellMetadata": {
      "byteLimit": 2048000,
      "rowLimit": 10000
     },
     "inputWidgets": {},
     "nuid": "18c1b181-bd09-432b-a0ee-c5d74ec4d72a",
     "showTitle": false,
     "tableResultSettingsMap": {},
     "title": ""
    }
   },
   "outputs": [
    {
     "name": "stdout",
     "output_type": "stream",
     "text": [
      "+---------------+---------------+--------+---------+-----------+----------+--------------+--------------------+------------+---------+--------------------+--------------------+-----------+----------------+---------------+------------------+--------------+--------------+--------------+---------------+-------------+--------------+--------------+-----------------+\n",
      "|player_match_sk|playermatch_key|match_id|player_id|player_name|       dob|  batting_hand|       bowling_skill|country_name|role_desc|         player_team|        opposit_team|season_year|is_manofthematch|age_as_on_match|isplayers_team_won|batting_status|bowling_status|player_captain|opposit_captain|player_keeper|opposit_keeper|veteran_status|years_since_debut|\n",
      "+---------------+---------------+--------+---------+-----------+----------+--------------+--------------------+------------+---------+--------------------+--------------------+-----------+----------------+---------------+------------------+--------------+--------------+--------------+---------------+-------------+--------------+--------------+-----------------+\n",
      "|             -1|             -1|      -1|       -1|       NULL|      NULL|          NULL|                NULL|        NULL|     NULL|                NULL|                NULL|       NULL|            NULL|           NULL|              NULL|          NULL|          NULL|          NULL|           NULL|         NULL|          NULL|   Non-Veteran|             NULL|\n",
      "|          12694|           NULL|  335987|        6|   R Dravid|1973-01-11|Right-hand bat|  Right-arm offbreak|       India|  Captain|Royal Challengers...|Kolkata Knight Ri...|       NULL|           false|           NULL|             false|          NULL|          NULL|      R Dravid|     SC Ganguly|   MV Boucher|       WP Saha|   Non-Veteran|             NULL|\n",
      "|          12695|           NULL|  335987|        7|   W Jaffer|1978-02-16|Right-hand bat|  Right-arm offbreak|       India|   Player|Royal Challengers...|Kolkata Knight Ri...|       NULL|           false|           NULL|             false|          NULL|          NULL|      R Dravid|     SC Ganguly|   MV Boucher|       WP Saha|   Non-Veteran|             NULL|\n",
      "|          12696|           NULL|  335987|        8|    V Kohli|1988-11-05|Right-hand bat|    Right-arm medium|       India|   Player|Royal Challengers...|Kolkata Knight Ri...|       NULL|           false|           NULL|             false|          NULL|          NULL|      R Dravid|     SC Ganguly|   MV Boucher|       WP Saha|   Non-Veteran|             NULL|\n",
      "|          12697|           NULL|  335987|        9|  JH Kallis|1975-10-16|Right-hand bat|Right-arm fast-me...|South Africa|   Player|Royal Challengers...|Kolkata Knight Ri...|       NULL|           false|           NULL|             false|          NULL|          NULL|      R Dravid|     SC Ganguly|   MV Boucher|       WP Saha|   Non-Veteran|             NULL|\n",
      "+---------------+---------------+--------+---------+-----------+----------+--------------+--------------------+------------+---------+--------------------+--------------------+-----------+----------------+---------------+------------------+--------------+--------------+--------------+---------------+-------------+--------------+--------------+-----------------+\n",
      "only showing top 5 rows\n"
     ]
    }
   ],
   "source": [
    "#Transformation on player_match_df\n",
    "\n",
    "# Add a 'veteran_status' column based on player age\n",
    "player_match_df = player_match_df.withColumn(\n",
    "                        \"veteran_status\",\n",
    "                        when(col(\"age_as_on_match\") >= 35, \"Veteran\").otherwise(\"Non-Veteran\")\n",
    ")\n",
    "\n",
    "#Year since debut column\n",
    "player_match_df = player_match_df.withColumn(\n",
    "                                \"years_since_debut\",\n",
    "                                (year(current_date()) - col(\"season_year\"))\n",
    ")\n",
    "\n",
    "player_match_df.show(5)"
   ]
  },
  {
   "cell_type": "code",
   "execution_count": 0,
   "metadata": {
    "application/vnd.databricks.v1+cell": {
     "cellMetadata": {
      "byteLimit": 2048000,
      "rowLimit": 10000
     },
     "inputWidgets": {},
     "nuid": "276ce232-2281-4825-87ad-9c2c36a127a8",
     "showTitle": false,
     "tableResultSettingsMap": {},
     "title": ""
    }
   },
   "outputs": [],
   "source": [
    "#Working with SparkSQL\n",
    "\n",
    "#First creating a temp view\n",
    "ball_by_ball_df.createOrReplaceTempView(\"ball_by_ball\")\n",
    "match_df.createOrReplaceTempView(\"match\")\n",
    "team_df.createOrReplaceTempView(\"team\")\n",
    "player_df.createOrReplaceTempView(\"player\")\n",
    "player_match_df.createOrReplaceTempView(\"player_match\")"
   ]
  },
  {
   "cell_type": "code",
   "execution_count": 0,
   "metadata": {
    "application/vnd.databricks.v1+cell": {
     "cellMetadata": {
      "byteLimit": 2048000,
      "rowLimit": 10000
     },
     "inputWidgets": {},
     "nuid": "96073f29-12fa-42a6-8d19-cff7f34f4373",
     "showTitle": false,
     "tableResultSettingsMap": {},
     "title": ""
    }
   },
   "outputs": [
    {
     "data": {
      "text/plain": [
       "['match_id',\n",
       " 'over_id',\n",
       " 'ball_id',\n",
       " 'innings_no',\n",
       " 'team_batting',\n",
       " 'team_bowling',\n",
       " 'striker_batting_position',\n",
       " 'extra_type',\n",
       " 'runs_scored',\n",
       " 'extra_runs',\n",
       " 'wides',\n",
       " 'legbyes',\n",
       " 'byes',\n",
       " 'noballs',\n",
       " 'penalty',\n",
       " 'bowler_extras',\n",
       " 'out_type',\n",
       " 'caught',\n",
       " 'bowled',\n",
       " 'run_out',\n",
       " 'lbw',\n",
       " 'retired_hurt',\n",
       " 'stumped',\n",
       " 'caught_and_bowled',\n",
       " 'hit_wicket',\n",
       " 'obstructingfeild',\n",
       " 'bowler_wicket',\n",
       " 'match_date',\n",
       " 'season',\n",
       " 'striker',\n",
       " 'non_striker',\n",
       " 'bowler',\n",
       " 'player_out',\n",
       " 'fielders',\n",
       " 'striker_match_sk',\n",
       " 'strikersk',\n",
       " 'nonstriker_match_sk',\n",
       " 'nonstriker_sk',\n",
       " 'fielder_match_sk',\n",
       " 'fielder_sk',\n",
       " 'bowler_match_sk',\n",
       " 'bowler_sk',\n",
       " 'playerout_match_sk',\n",
       " 'battingteam_sk',\n",
       " 'bowlingteam_sk',\n",
       " 'keeper_catch',\n",
       " 'player_out_sk',\n",
       " 'matchdatesk',\n",
       " 'running_total',\n",
       " 'high_impact']"
      ]
     },
     "execution_count": 20,
     "metadata": {},
     "output_type": "execute_result"
    }
   ],
   "source": [
    "ball_by_ball_df.columns"
   ]
  },
  {
   "cell_type": "code",
   "execution_count": 0,
   "metadata": {
    "application/vnd.databricks.v1+cell": {
     "cellMetadata": {
      "byteLimit": 2048000,
      "rowLimit": 10000
     },
     "inputWidgets": {},
     "nuid": "ff29f2da-7ee4-4084-8a61-2ea7c9c8dab3",
     "showTitle": false,
     "tableResultSettingsMap": {},
     "title": ""
    }
   },
   "outputs": [],
   "source": [
    "top_run_scorers_per_season = spark.sql(\"\"\"\n",
    "SELECT\n",
    "    p.player_name,\n",
    "    m.season_year,\n",
    "    SUM(b.runs_scored) AS total_runs\n",
    "FROM ball_by_ball AS b\n",
    "JOIN match AS m\n",
    "    ON b.match_id = m.match_id\n",
    "JOIN player_match AS pm\n",
    "    ON pm.match_id = m.match_id AND pm.player_id = b.striker\n",
    "JOIN player AS p\n",
    "    ON pm.player_id = p.player_id\n",
    "GROUP BY p.player_name, m.season_year\n",
    "ORDER BY m.season_year, total_runs DESC                                    \n",
    "\"\"\")"
   ]
  },
  {
   "cell_type": "code",
   "execution_count": 0,
   "metadata": {
    "application/vnd.databricks.v1+cell": {
     "cellMetadata": {
      "byteLimit": 2048000,
      "rowLimit": 10000
     },
     "inputWidgets": {},
     "nuid": "d5e3dae4-f2d3-407b-9150-432d2fff248a",
     "showTitle": false,
     "tableResultSettingsMap": {},
     "title": ""
    }
   },
   "outputs": [
    {
     "name": "stdout",
     "output_type": "stream",
     "text": [
      "+-------------+-----------+----------+\n",
      "|  player_name|season_year|total_runs|\n",
      "+-------------+-----------+----------+\n",
      "|     SE Marsh|       2008|       616|\n",
      "|    G Gambhir|       2008|       534|\n",
      "|ST Jayasuriya|       2008|       514|\n",
      "|    SR Watson|       2008|       468|\n",
      "|     GC Smith|       2008|       441|\n",
      "| AC Gilchrist|       2008|       436|\n",
      "|    YK Pathan|       2008|       435|\n",
      "|     SK Raina|       2008|       421|\n",
      "|     MS Dhoni|       2008|       414|\n",
      "|     V Sehwag|       2008|       406|\n",
      "|    RG Sharma|       2008|       404|\n",
      "|     R Dravid|       2008|       371|\n",
      "|   SC Ganguly|       2008|       349|\n",
      "|     S Dhawan|       2008|       340|\n",
      "|   RV Uthappa|       2008|       320|\n",
      "|KC Sangakkara|       2008|       320|\n",
      "|    DJ Hussey|       2008|       319|\n",
      "|  SA Asnodkar|       2008|       311|\n",
      "|     PA Patel|       2008|       302|\n",
      "| Yuvraj Singh|       2008|       299|\n",
      "+-------------+-----------+----------+\n",
      "only showing top 20 rows\n"
     ]
    }
   ],
   "source": [
    "top_run_scorers_per_season.show(20)"
   ]
  },
  {
   "cell_type": "code",
   "execution_count": 0,
   "metadata": {
    "application/vnd.databricks.v1+cell": {
     "cellMetadata": {
      "byteLimit": 2048000,
      "rowLimit": 10000
     },
     "inputWidgets": {},
     "nuid": "3e0b658b-df75-499a-83fc-bb0cdebc59dc",
     "showTitle": false,
     "tableResultSettingsMap": {},
     "title": ""
    }
   },
   "outputs": [],
   "source": [
    "top_run_scorer_all_time = spark.sql(\"\"\"\n",
    "                                    SELECT\n",
    "                                        p.player_name,\n",
    "                                        SUM(b.runs_scored) AS total_runs\n",
    "                                    FROM ball_by_ball AS b\n",
    "                                    JOIN match AS m\n",
    "                                        ON b.match_id = m.match_id\n",
    "                                    JOIN player_match AS pm\n",
    "                                        ON pm.match_id = m.match_id AND pm.player_id = b.striker\n",
    "                                    JOIN player AS p\n",
    "                                        ON pm.player_id = p.player_id\n",
    "                                    GROUP BY p.player_name\n",
    "                                    ORDER BY total_runs DESC\n",
    "                                    \"\"\"\n",
    "\n",
    ")"
   ]
  },
  {
   "cell_type": "code",
   "execution_count": 0,
   "metadata": {
    "application/vnd.databricks.v1+cell": {
     "cellMetadata": {
      "byteLimit": 2048000,
      "rowLimit": 10000
     },
     "inputWidgets": {},
     "nuid": "2b44d6ef-f132-4c23-8b8d-35126874cf95",
     "showTitle": false,
     "tableResultSettingsMap": {},
     "title": ""
    }
   },
   "outputs": [
    {
     "name": "stdout",
     "output_type": "stream",
     "text": [
      "+--------------+----------+\n",
      "|   player_name|total_runs|\n",
      "+--------------+----------+\n",
      "|      SK Raina|      4548|\n",
      "|       V Kohli|      4413|\n",
      "|     RG Sharma|      4207|\n",
      "|     G Gambhir|      4132|\n",
      "|     DA Warner|      4014|\n",
      "|    RV Uthappa|      3778|\n",
      "|      CH Gayle|      3647|\n",
      "|      S Dhawan|      3561|\n",
      "|      MS Dhoni|      3560|\n",
      "|AB de Villiers|      3486|\n",
      "+--------------+----------+\n",
      "only showing top 10 rows\n"
     ]
    }
   ],
   "source": [
    "top_run_scorer_all_time.show(10)"
   ]
  },
  {
   "cell_type": "code",
   "execution_count": 0,
   "metadata": {
    "application/vnd.databricks.v1+cell": {
     "cellMetadata": {
      "byteLimit": 2048000,
      "rowLimit": 10000
     },
     "inputWidgets": {},
     "nuid": "f5806f20-847f-4038-bcf9-c4afea184bfb",
     "showTitle": false,
     "tableResultSettingsMap": {},
     "title": ""
    }
   },
   "outputs": [],
   "source": [
    "leading_wicket_taker_per_season = spark.sql(\"\"\"\n",
    "                                            SELECT\n",
    "                                                p.player_name,\n",
    "                                                m.season_year,\n",
    "                                                SUM(CAST(b.bowler_wicket AS INT)) AS total_wickets\n",
    "                                            FROM ball_by_ball AS b\n",
    "                                            JOIN match AS m\n",
    "                                                ON b.match_id = m.match_id\n",
    "                                            JOIN player_match AS pm\n",
    "                                                ON pm.match_id = m.match_id AND pm.player_id = b.bowler\n",
    "                                            JOIN player AS p\n",
    "                                                ON p.player_id = pm.player_id\n",
    "                                            GROUP BY p.player_name, m.season_year\n",
    "                                            ORDER BY m.season_year, total_wickets DESC\n",
    "                                            \"\"\"\n",
    ")"
   ]
  },
  {
   "cell_type": "code",
   "execution_count": 0,
   "metadata": {
    "application/vnd.databricks.v1+cell": {
     "cellMetadata": {
      "byteLimit": 2048000,
      "rowLimit": 10000
     },
     "inputWidgets": {},
     "nuid": "7a4353c9-1f81-47c5-a360-74bf6fec4854",
     "showTitle": false,
     "tableResultSettingsMap": {},
     "title": ""
    }
   },
   "outputs": [
    {
     "name": "stdout",
     "output_type": "stream",
     "text": [
      "+-------------+-----------+-------------+\n",
      "|  player_name|season_year|total_wickets|\n",
      "+-------------+-----------+-------------+\n",
      "|Sohail Tanvir|       2008|           22|\n",
      "|     SK Warne|       2008|           19|\n",
      "|  S Sreesanth|       2008|           19|\n",
      "|      MS Gony|       2008|           17|\n",
      "|    JA Morkel|       2008|           17|\n",
      "|    PP Chawla|       2008|           17|\n",
      "|    SR Watson|       2008|           17|\n",
      "|    VY Mahesh|       2008|           16|\n",
      "|  MF Maharoof|       2008|           15|\n",
      "|    IK Pathan|       2008|           15|\n",
      "|     RP Singh|       2008|           15|\n",
      "|     MM Patel|       2008|           14|\n",
      "|       Z Khan|       2008|           13|\n",
      "|   SK Trivedi|       2008|           13|\n",
      "|     Umar Gul|       2008|           12|\n",
      "|      A Nehra|       2008|           12|\n",
      "|   GD McGrath|       2008|           12|\n",
      "|     A Mishra|       2008|           11|\n",
      "|     L Balaji|       2008|           11|\n",
      "|      PP Ojha|       2008|           11|\n",
      "+-------------+-----------+-------------+\n",
      "only showing top 20 rows\n"
     ]
    }
   ],
   "source": [
    "leading_wicket_taker_per_season.show(20)"
   ]
  },
  {
   "cell_type": "code",
   "execution_count": 0,
   "metadata": {
    "application/vnd.databricks.v1+cell": {
     "cellMetadata": {
      "byteLimit": 2048000,
      "rowLimit": 10000
     },
     "inputWidgets": {},
     "nuid": "cc0b0bdb-eef8-4890-afc6-2f56dca7f5ad",
     "showTitle": false,
     "tableResultSettingsMap": {},
     "title": ""
    }
   },
   "outputs": [],
   "source": [
    "leading_wicker_taker_all_time = spark.sql(\"\"\"\n",
    "                                            SELECT\n",
    "                                                p.player_name,\n",
    "                                                SUM(CAST(b.bowler_wicket AS INT)) AS total_wickets\n",
    "                                            FROM ball_by_ball AS b\n",
    "                                            JOIN match AS m\n",
    "                                                ON b.match_id = m.match_id\n",
    "                                            JOIN player_match AS pm\n",
    "                                                ON pm.match_id = m.match_id AND pm.player_id = b.bowler\n",
    "                                            JOIN player AS p\n",
    "                                                ON p.player_id = pm.player_id\n",
    "                                            GROUP BY p.player_name\n",
    "                                            ORDER BY total_wickets DESC\n",
    "                                          \"\"\")"
   ]
  },
  {
   "cell_type": "code",
   "execution_count": 0,
   "metadata": {
    "application/vnd.databricks.v1+cell": {
     "cellMetadata": {
      "byteLimit": 2048000,
      "rowLimit": 10000
     },
     "inputWidgets": {},
     "nuid": "b006f5aa-7bb4-4842-8dda-0ff7366de708",
     "showTitle": false,
     "tableResultSettingsMap": {},
     "title": ""
    }
   },
   "outputs": [
    {
     "name": "stdout",
     "output_type": "stream",
     "text": [
      "+---------------+-------------+\n",
      "|    player_name|total_wickets|\n",
      "+---------------+-------------+\n",
      "|     SL Malinga|          154|\n",
      "|       A Mishra|          134|\n",
      "|Harbhajan Singh|          127|\n",
      "|      PP Chawla|          126|\n",
      "|       DJ Bravo|          122|\n",
      "|        B Kumar|          111|\n",
      "|        A Nehra|          106|\n",
      "|  R Vinay Kumar|          103|\n",
      "|         Z Khan|          102|\n",
      "|       R Ashwin|          100|\n",
      "+---------------+-------------+\n",
      "only showing top 10 rows\n"
     ]
    }
   ],
   "source": [
    "leading_wicker_taker_all_time.show(10)"
   ]
  },
  {
   "cell_type": "code",
   "execution_count": 0,
   "metadata": {
    "application/vnd.databricks.v1+cell": {
     "cellMetadata": {
      "byteLimit": 2048000,
      "rowLimit": 10000
     },
     "inputWidgets": {},
     "nuid": "56a332e5-664f-4db5-a3cb-43db14b1a4f6",
     "showTitle": false,
     "tableResultSettingsMap": {},
     "title": ""
    }
   },
   "outputs": [
    {
     "name": "stdout",
     "output_type": "stream",
     "text": [
      "+--------+--------+--------------------+--------------------+----------+-----------+--------------------+----------+------------+--------------------+--------------------+---------+--------+------------+-------------+----------+----------+----+-----+---+-------------------+-----------------+\n",
      "|match_sk|match_id|               team1|               team2|match_date|season_year|          venue_name| city_name|country_name|         toss_winner|        match_winner|toss_name|win_type|outcome_type|    manofmach|win_margin|country_id|year|month|day|win_margin_category|toss_match_winner|\n",
      "+--------+--------+--------------------+--------------------+----------+-----------+--------------------+----------+------------+--------------------+--------------------+---------+--------+------------+-------------+----------+----------+----+-----+---+-------------------+-----------------+\n",
      "|       0|  335987|Royal Challengers...|Kolkata Knight Ri...|2008-04-18|       2008|M Chinnaswamy Sta...| Bangalore|       India|Royal Challengers...|Kolkata Knight Ri...|    field|    runs|      Result|  BB McCullum|      NULL|         1|2008|    4| 18|                Low|            False|\n",
      "|       1|  335988|     Kings XI Punjab| Chennai Super Kings|2008-04-19|       2008|Punjab Cricket As...|Chandigarh|       India| Chennai Super Kings| Chennai Super Kings|      bat|    runs|      Result|   MEK Hussey|      NULL|         1|2008|    4| 19|                Low|             True|\n",
      "|       2|  335989|    Delhi Daredevils|    Rajasthan Royals|2008-04-19|       2008|    Feroz Shah Kotla|     Delhi|       India|    Rajasthan Royals|    Delhi Daredevils|      bat| wickets|      Result|  MF Maharoof|      NULL|         1|2008|    4| 19|                Low|            False|\n",
      "|       3|  335990|      Mumbai Indians|Royal Challengers...|2008-04-20|       2008|    Wankhede Stadium|    Mumbai|       India|      Mumbai Indians|Royal Challengers...|      bat| wickets|      Result|   MV Boucher|      NULL|         1|2008|    4| 20|                Low|            False|\n",
      "|       4|  335991|Kolkata Knight Ri...|     Deccan Chargers|2008-04-20|       2008|        Eden Gardens|   Kolkata|       India|     Deccan Chargers|Kolkata Knight Ri...|      bat| wickets|      Result|    DJ Hussey|      NULL|         1|2008|    4| 20|                Low|            False|\n",
      "|       5|  335992|    Rajasthan Royals|     Kings XI Punjab|2008-04-21|       2008|Sawai Mansingh St...|    Jaipur|       India|     Kings XI Punjab|    Rajasthan Royals|      bat| wickets|      Result|    SR Watson|      NULL|         1|2008|    4| 21|                Low|            False|\n",
      "|       6|  335993|     Deccan Chargers|    Delhi Daredevils|2008-04-22|       2008|Rajiv Gandhi Inte...| Hyderabad|       India|     Deccan Chargers|    Delhi Daredevils|      bat| wickets|      Result|     V Sehwag|      NULL|         1|2008|    4| 22|                Low|            False|\n",
      "|       7|  335994| Chennai Super Kings|      Mumbai Indians|2008-04-23|       2008|MA Chidambaram St...|   Chennai|       India|      Mumbai Indians| Chennai Super Kings|    field|    runs|      Result|    ML Hayden|      NULL|         1|2008|    4| 23|                Low|            False|\n",
      "|       8|  335995|     Deccan Chargers|    Rajasthan Royals|2008-04-24|       2008|Rajiv Gandhi Inte...| Hyderabad|       India|    Rajasthan Royals|    Rajasthan Royals|    field| wickets|      Result|    YK Pathan|      NULL|         1|2008|    4| 24|                Low|             True|\n",
      "|       9|  335996|     Kings XI Punjab|      Mumbai Indians|2008-04-25|       2008|Punjab Cricket As...|Chandigarh|       India|      Mumbai Indians|     Kings XI Punjab|    field|    runs|      Result|KC Sangakkara|      NULL|         1|2008|    4| 25|                Low|            False|\n",
      "|      10|  335997|Royal Challengers...|    Rajasthan Royals|2008-04-26|       2008|M Chinnaswamy Sta...| Bangalore|       India|    Rajasthan Royals|    Rajasthan Royals|    field| wickets|      Result|    SR Watson|      NULL|         1|2008|    4| 26|                Low|             True|\n",
      "|      11|  335998| Chennai Super Kings|Kolkata Knight Ri...|2008-04-26|       2008|MA Chidambaram St...|   Chennai|       India|Kolkata Knight Ri...| Chennai Super Kings|      bat| wickets|      Result|     JDP Oram|      NULL|         1|2008|    4| 26|                Low|            False|\n",
      "|      12|  335999|      Mumbai Indians|     Deccan Chargers|2008-04-27|       2008|Dr DY Patil Sport...|    Mumbai|       India|     Deccan Chargers|     Deccan Chargers|    field| wickets|      Result| AC Gilchrist|      NULL|         1|2008|    4| 27|                Low|             True|\n",
      "|      13|  336000|     Kings XI Punjab|    Delhi Daredevils|2008-04-27|       2008|Punjab Cricket As...|Chandigarh|       India|    Delhi Daredevils|     Kings XI Punjab|      bat| wickets|      Result|    SM Katich|      NULL|         1|2008|    4| 27|                Low|            False|\n",
      "|      14|  336001|Royal Challengers...| Chennai Super Kings|2008-04-28|       2008|M Chinnaswamy Sta...| Bangalore|       India| Chennai Super Kings| Chennai Super Kings|      bat|    runs|      Result|     MS Dhoni|      NULL|         1|2008|    4| 28|                Low|             True|\n",
      "|      15|  336002|Kolkata Knight Ri...|      Mumbai Indians|2008-04-29|       2008|        Eden Gardens|   Kolkata|       India|Kolkata Knight Ri...|      Mumbai Indians|      bat| wickets|      Result|ST Jayasuriya|      NULL|         1|2008|    4| 29|                Low|            False|\n",
      "|      16|  336003|    Delhi Daredevils|Royal Challengers...|2008-04-30|       2008|    Feroz Shah Kotla|     Delhi|       India|Royal Challengers...|    Delhi Daredevils|    field|    runs|      Result|   GD McGrath|      NULL|         1|2008|    4| 30|                Low|            False|\n",
      "|      17|  336004|     Deccan Chargers|     Kings XI Punjab|2008-05-01|       2008|Rajiv Gandhi Inte...| Hyderabad|       India|     Kings XI Punjab|     Kings XI Punjab|    field| wickets|      Result|     SE Marsh|      NULL|         1|2008|    5|  1|                Low|             True|\n",
      "|      18|  336005|    Rajasthan Royals|Kolkata Knight Ri...|2008-05-01|       2008|Sawai Mansingh St...|    Jaipur|       India|    Rajasthan Royals|    Rajasthan Royals|      bat|    runs|      Result|  SA Asnodkar|      NULL|         1|2008|    5|  1|                Low|             True|\n",
      "|      19|  336006| Chennai Super Kings|    Delhi Daredevils|2008-05-02|       2008|MA Chidambaram St...|   Chennai|       India| Chennai Super Kings|    Delhi Daredevils|      bat| wickets|      Result|     V Sehwag|      NULL|         1|2008|    5|  2|                Low|            False|\n",
      "+--------+--------+--------------------+--------------------+----------+-----------+--------------------+----------+------------+--------------------+--------------------+---------+--------+------------+-------------+----------+----------+----+-----+---+-------------------+-----------------+\n",
      "only showing top 20 rows\n"
     ]
    }
   ],
   "source": [
    "match_df.show()"
   ]
  },
  {
   "cell_type": "code",
   "execution_count": 0,
   "metadata": {
    "application/vnd.databricks.v1+cell": {
     "cellMetadata": {
      "byteLimit": 2048000,
      "rowLimit": 10000
     },
     "inputWidgets": {},
     "nuid": "7d6c43af-e9e2-48bc-b715-00dde47f12b0",
     "showTitle": false,
     "tableResultSettingsMap": {},
     "title": ""
    }
   },
   "outputs": [
    {
     "name": "stdout",
     "output_type": "stream",
     "text": [
      "+--------------------+-------------+-----------------------+------------------+\n",
      "|               venue|total_matches|toss_match_winner_count|toss_match_win_pct|\n",
      "+--------------------+-------------+-----------------------+------------------+\n",
      "|M Chinnaswamy Sta...|           66|                     36|              0.55|\n",
      "|        Eden Gardens|           61|                     34|              0.56|\n",
      "|    Feroz Shah Kotla|           60|                     31|              0.52|\n",
      "|    Wankhede Stadium|           57|                     27|              0.47|\n",
      "|MA Chidambaram St...|           48|                     25|              0.52|\n",
      "|Rajiv Gandhi Inte...|           41|                     14|              0.34|\n",
      "|Punjab Cricket As...|           35|                     16|              0.46|\n",
      "|Sawai Mansingh St...|           33|                     15|              0.45|\n",
      "|Dr DY Patil Sport...|           17|                      9|              0.53|\n",
      "|Subrata Roy Sahar...|           17|                      9|              0.53|\n",
      "|Maharashtra Crick...|           15|                      9|               0.6|\n",
      "|           Kingsmead|           15|                      9|               0.6|\n",
      "|     SuperSport Park|           12|                      8|              0.67|\n",
      "|Sardar Patel Stad...|           12|                      6|               0.5|\n",
      "|   Brabourne Stadium|           11|                      7|              0.64|\n",
      "|Dr. Y.S. Rajasekh...|           11|                      4|              0.36|\n",
      "|Saurashtra Cricke...|           10|                      4|               0.4|\n",
      "|Himachal Pradesh ...|            9|                      5|              0.56|\n",
      "|Rajiv Gandhi Inte...|            8|                      3|              0.38|\n",
      "|New Wanderers Sta...|            8|                      3|              0.38|\n",
      "+--------------------+-------------+-----------------------+------------------+\n",
      "only showing top 20 rows\n"
     ]
    }
   ],
   "source": [
    "#Toss and Match Win by Venue\n",
    "toss_and_win_by_venue = spark.sql(\"\"\"\n",
    "                            SELECT \n",
    "                                DISTINCT(venue_name) AS venue,\n",
    "                                COUNT(match_id) AS total_matches,\n",
    "                                SUM(\n",
    "                                    CASE WHEN toss_match_winner = True THEN 1 ELSE 0 END\n",
    "                                ) AS toss_match_winner_count,\n",
    "                                ROUND(SUM(CASE WHEN toss_match_winner = True THEN 1 ELSE 0 END)/COUNT(match_id),2) AS toss_match_win_pct  \n",
    "                            FROM match AS m\n",
    "                            GROUP BY venue\n",
    "                            ORDER BY total_matches DESC, toss_match_win_pct DESC\n",
    "\"\"\")\n",
    "\n",
    "toss_and_win_by_venue.show()"
   ]
  },
  {
   "cell_type": "code",
   "execution_count": 0,
   "metadata": {
    "application/vnd.databricks.v1+cell": {
     "cellMetadata": {
      "byteLimit": 2048000,
      "rowLimit": 10000
     },
     "inputWidgets": {},
     "nuid": "6e39df7f-4bc3-4fe4-8d37-c0d437d3ae51",
     "showTitle": false,
     "tableResultSettingsMap": {},
     "title": ""
    }
   },
   "outputs": [
    {
     "name": "stdout",
     "output_type": "stream",
     "text": [
      "+--------------------+-------------+-------------------+-----------------+---------------+-------------+\n",
      "|               venue|total_matches|first_bat_win_count|first_bat_win_pct|chase_win_count|chase_win_pct|\n",
      "+--------------------+-------------+-------------------+-----------------+---------------+-------------+\n",
      "|M Chinnaswamy Sta...|           66|                 27|             0.41|             36|         0.55|\n",
      "|        Eden Gardens|           61|                 25|             0.41|             36|         0.59|\n",
      "|    Feroz Shah Kotla|           60|                 28|             0.47|             31|         0.52|\n",
      "|    Wankhede Stadium|           57|                 29|             0.51|             28|         0.49|\n",
      "|MA Chidambaram St...|           48|                 30|             0.63|             17|         0.35|\n",
      "|Rajiv Gandhi Inte...|           41|                 14|             0.34|             26|         0.63|\n",
      "|Punjab Cricket As...|           35|                 15|             0.43|             20|         0.57|\n",
      "|Sawai Mansingh St...|           33|                 10|              0.3|             23|          0.7|\n",
      "|Dr DY Patil Sport...|           17|                  7|             0.41|             10|         0.59|\n",
      "|Subrata Roy Sahar...|           17|                 11|             0.65|              6|         0.35|\n",
      "|Maharashtra Crick...|           15|                  5|             0.33|             10|         0.67|\n",
      "|           Kingsmead|           15|                  9|              0.6|              6|          0.4|\n",
      "|Sardar Patel Stad...|           12|                  6|              0.5|              5|         0.42|\n",
      "|     SuperSport Park|           12|                  4|             0.33|              8|         0.67|\n",
      "|   Brabourne Stadium|           11|                  6|             0.55|              5|         0.45|\n",
      "|Dr. Y.S. Rajasekh...|           11|                  7|             0.64|              4|         0.36|\n",
      "|Saurashtra Cricke...|           10|                  3|              0.3|              6|          0.6|\n",
      "|Himachal Pradesh ...|            9|                  5|             0.56|              4|         0.44|\n",
      "|Rajiv Gandhi Inte...|            8|                  5|             0.63|              2|         0.25|\n",
      "|New Wanderers Sta...|            8|                  3|             0.38|              5|         0.63|\n",
      "+--------------------+-------------+-------------------+-----------------+---------------+-------------+\n",
      "only showing top 20 rows\n"
     ]
    }
   ],
   "source": [
    "#Type of Win by Venue\n",
    "type_of_wins_by_venue = spark.sql(\"\"\"\n",
    "                                  SELECT\n",
    "                                      DISTINCT(venue_name) AS venue,\n",
    "                                      COUNT(match_id) AS total_matches,\n",
    "                                      SUM(\n",
    "                                          CASE WHEN win_type = 'runs' THEN 1 ELSE 0 END\n",
    "                                      ) AS first_bat_win_count,\n",
    "                                      ROUND(SUM(CASE WHEN win_type = 'runs' THEN 1 ELSE 0 END)/COUNT(match_id),2) AS first_bat_win_pct,\n",
    "                                      SUM(\n",
    "                                          CASE WHEN win_type = 'wickets' THEN 1 ELSE 0 END\n",
    "                                          ) AS chase_win_count,\n",
    "                                      ROUND(SUM(CASE WHEN win_type = 'wickets' THEN 1 ELSE 0 END)/COUNT(match_id),2) AS chase_win_pct\n",
    "                                  FROM match\n",
    "                                  GROUP BY venue\n",
    "                                  ORDER BY total_matches DESC\n",
    "                                  \"\"\")\n",
    "type_of_wins_by_venue.show()"
   ]
  },
  {
   "cell_type": "code",
   "execution_count": 0,
   "metadata": {
    "application/vnd.databricks.v1+cell": {
     "cellMetadata": {
      "byteLimit": 2048000,
      "rowLimit": 10000
     },
     "inputWidgets": {},
     "nuid": "18d9c127-fdf3-49bd-8c94-25ce32b94910",
     "showTitle": false,
     "tableResultSettingsMap": {},
     "title": ""
    }
   },
   "outputs": [
    {
     "data": {
      "text/plain": [
       "['team_sk', 'team_id', 'team_name']"
      ]
     },
     "execution_count": 32,
     "metadata": {},
     "output_type": "execute_result"
    }
   ],
   "source": [
    "team_df.columns"
   ]
  },
  {
   "cell_type": "code",
   "execution_count": 0,
   "metadata": {
    "application/vnd.databricks.v1+cell": {
     "cellMetadata": {
      "byteLimit": 2048000,
      "rowLimit": 10000
     },
     "inputWidgets": {},
     "nuid": "c1700010-e570-48b2-b050-33644f6a458e",
     "showTitle": false,
     "tableResultSettingsMap": {},
     "title": ""
    }
   },
   "outputs": [
    {
     "name": "stdout",
     "output_type": "stream",
     "text": [
      "+--------------------+-------------+----------+---------+--------------+-------+------------------+\n",
      "|                team|total_matches|match_wins|toss_wins|toss_match_win|win_pct|toss_match_win_pct|\n",
      "+--------------------+-------------+----------+---------+--------------+-------+------------------+\n",
      "|       Gujarat Lions|           30|        13|       15|            10|   0.43|              0.77|\n",
      "|Kochi Tuskers Kerala|           14|         6|        8|             4|   0.43|              0.67|\n",
      "|     Deccan Chargers|           75|        29|       43|            19|   0.39|              0.66|\n",
      "|Kolkata Knight Ri...|          148|        77|       78|            44|   0.52|              0.57|\n",
      "|    Rajasthan Royals|          118|        63|       63|            34|   0.53|              0.54|\n",
      "| Chennai Super Kings|          131|        79|       66|            42|    0.6|              0.53|\n",
      "|      Mumbai Indians|          157|        91|       85|            48|   0.58|              0.53|\n",
      "|    Delhi Daredevils|          147|        62|       72|            33|   0.42|              0.53|\n",
      "|Royal Challengers...|          153|        73|       70|            35|   0.48|              0.48|\n",
      "|Rising Pune Super...|           30|        15|       12|             7|    0.5|              0.47|\n",
      "| Sunrisers Hyderabad|           77|        42|       35|            17|   0.55|               0.4|\n",
      "|     Kings XI Punjab|          148|        70|       68|            28|   0.47|               0.4|\n",
      "|       Pune Warriors|           46|        12|       20|             3|   0.26|              0.25|\n",
      "+--------------------+-------------+----------+---------+--------------+-------+------------------+\n",
      "\n"
     ]
    }
   ],
   "source": [
    "#Toss and Match Win By Team\n",
    "toss_and_win_by_team = spark.sql(\"\"\"\n",
    "                            SELECT  \n",
    "                                t.team_name AS team,\n",
    "                                COUNT(m.match_id) AS total_matches,\n",
    "                                SUM(\n",
    "                                    CASE WHEN t.team_name = m.match_winner THEN 1 ELSE 0 END\n",
    "                                ) AS match_wins,\n",
    "                                SUM(\n",
    "                                    CASE WHEN t.team_name = m.toss_winner THEN 1 ELSE 0 END\n",
    "                                ) AS toss_wins,\n",
    "                                SUM(\n",
    "                                    CASE WHEN t.team_name = m.toss_winner AND t.team_name = m.match_winner THEN 1 ELSE 0 END\n",
    "                                ) AS toss_match_win,\n",
    "                                ROUND(\n",
    "                                    SUM(CASE WHEN t.team_name = m.match_winner THEN 1 ELSE 0 END)/ COUNT(m.match_id), 2\n",
    "                                ) AS win_pct,\n",
    "                                ROUND(SUM(\n",
    "                                    CASE WHEN t.team_name = m.toss_winner AND t.team_name = m.match_winner THEN 1 ELSE 0 END)\n",
    "                                / SUM(\n",
    "                                    CASE WHEN t.team_name = m.match_winner THEN 1 ELSE 0 END),2) AS toss_match_win_pct\n",
    "                            FROM match AS m\n",
    "                            JOIN team AS t\n",
    "                                ON m.team1 = t.team_name OR m.team2 = t.team_name\n",
    "                            GROUP BY t.team_name\n",
    "                            ORDER BY toss_match_win_pct DESC, win_pct DESC\n",
    "\"\"\")\n",
    "\n",
    "toss_and_win_by_team.show()"
   ]
  }
 ],
 "metadata": {
  "application/vnd.databricks.v1+notebook": {
   "computePreferences": null,
   "dashboards": [],
   "environmentMetadata": {
    "base_environment": "",
    "environment_version": "3"
   },
   "inputWidgetPreferences": null,
   "language": "python",
   "notebookMetadata": {
    "pythonIndentUnit": 4
   },
   "notebookName": "IPL_DATA_ANALYSIS_SPARK",
   "widgets": {}
  },
  "language_info": {
   "name": "python"
  }
 },
 "nbformat": 4,
 "nbformat_minor": 0
}
